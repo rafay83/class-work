{
 "cells": [
  {
   "cell_type": "markdown",
   "metadata": {},
   "source": [
    "# Args,kwargs\n"
   ]
  },
  {
   "cell_type": "code",
   "execution_count": 4,
   "metadata": {},
   "outputs": [],
   "source": [
    "def car(model,year):\n",
    "    print(model,year)"
   ]
  },
  {
   "cell_type": "code",
   "execution_count": 5,
   "metadata": {},
   "outputs": [
    {
     "name": "stdout",
     "output_type": "stream",
     "text": [
      "corolla 2019\n"
     ]
    }
   ],
   "source": [
    "car('corolla',2019)\n"
   ]
  },
  {
   "cell_type": "code",
   "execution_count": 6,
   "metadata": {},
   "outputs": [
    {
     "name": "stdout",
     "output_type": "stream",
     "text": [
      "2019 toyota\n"
     ]
    }
   ],
   "source": [
    "car(2019,'toyota')"
   ]
  },
  {
   "cell_type": "code",
   "execution_count": 7,
   "metadata": {},
   "outputs": [],
   "source": [
    "def name(fname,lname):\n",
    "    print(f'first name:{fname}')\n",
    "    print(f'last name:{lname}')"
   ]
  },
  {
   "cell_type": "code",
   "execution_count": 8,
   "metadata": {},
   "outputs": [
    {
     "name": "stdout",
     "output_type": "stream",
     "text": [
      "first name:hussain\n",
      "last name:ali\n"
     ]
    }
   ],
   "source": [
    "name ('hussain','ali')"
   ]
  },
  {
   "cell_type": "code",
   "execution_count": 16,
   "metadata": {},
   "outputs": [],
   "source": [
    "def againame(fname,mname,lname):\n",
    "    print(f'first name: {fname}')\n",
    "    print(f'middle name:{mname}')\n",
    "    print(f'last name: {lname}')"
   ]
  },
  {
   "cell_type": "code",
   "execution_count": 17,
   "metadata": {},
   "outputs": [
    {
     "name": "stdout",
     "output_type": "stream",
     "text": [
      "first name: ali\n",
      "middle name:ur\n",
      "last name: hussain\n"
     ]
    }
   ],
   "source": [
    "againame(mname='ur',lname='hussain',fname=\"ali\")"
   ]
  },
  {
   "cell_type": "markdown",
   "metadata": {},
   "source": [
    "# arbitary number of arguments\n"
   ]
  },
  {
   "cell_type": "code",
   "execution_count": 21,
   "metadata": {},
   "outputs": [],
   "source": [
    "def pizza(size, flavour ,*toppings):\n",
    "    print(size, flavour)\n",
    "    print(toppings)"
   ]
  },
  {
   "cell_type": "code",
   "execution_count": 22,
   "metadata": {},
   "outputs": [
    {
     "name": "stdout",
     "output_type": "stream",
     "text": [
      "large fajita\n",
      "('extra cheese', 'olives', 'jalapeno')\n"
     ]
    }
   ],
   "source": [
    "pizza('large','fajita','extra cheese','olives','jalapeno')"
   ]
  },
  {
   "cell_type": "code",
   "execution_count": 24,
   "metadata": {},
   "outputs": [],
   "source": [
    "def car(make,model, **specs): # uses ** for keyword argument in dictionary form \n",
    "    print(make,model)\n",
    "    print(specs)\n",
    "    "
   ]
  },
  {
   "cell_type": "markdown",
   "metadata": {},
   "source": [
    "# while loop"
   ]
  },
  {
   "cell_type": "code",
   "execution_count": 27,
   "metadata": {},
   "outputs": [
    {
     "name": "stdout",
     "output_type": "stream",
     "text": [
      "0\n",
      "1\n",
      "2\n",
      "3\n",
      "4\n",
      "5\n",
      "6\n",
      "7\n",
      "8\n",
      "9\n"
     ]
    }
   ],
   "source": [
    "for a in range(10):\n",
    "    print(a)"
   ]
  },
  {
   "cell_type": "code",
   "execution_count": 28,
   "metadata": {},
   "outputs": [
    {
     "name": "stdout",
     "output_type": "stream",
     "text": [
      "0\n",
      "1\n",
      "2\n",
      "3\n",
      "4\n",
      "5\n",
      "6\n",
      "7\n",
      "8\n",
      "9\n"
     ]
    }
   ],
   "source": [
    "a=0\n",
    "while a<10:\n",
    "    print(a)\n",
    "    a=a+1"
   ]
  },
  {
   "cell_type": "code",
   "execution_count": 2,
   "metadata": {},
   "outputs": [
    {
     "name": "stdout",
     "output_type": "stream",
     "text": [
      "enter a toppingcheese\n",
      "enter a toppingonion\n",
      "enter a toppingbkh\n",
      "enter a toppingjf\n",
      "enter a toppingf\n",
      "['cheese', 'onion', 'bkh', 'jf', 'f']\n"
     ]
    }
   ],
   "source": [
    "toppings = []\n",
    "for a in range(5):\n",
    "    topping = input('enter a topping')\n",
    "    toppings.append(topping)\n",
    "    \n",
    "print(toppings)"
   ]
  },
  {
   "cell_type": "code",
   "execution_count": 7,
   "metadata": {},
   "outputs": [
    {
     "name": "stdout",
     "output_type": "stream",
     "text": [
      "enter a topping:sauce\n",
      "enter a topping:green sauce\n",
      "enter a topping:onions\n",
      "enter a topping:hot sauce\n",
      "enter a topping:afghan pulao\n",
      "enter a topping:q\n",
      "['sauce', 'green sauce', 'onions', 'hot sauce', 'afghan pulao']\n"
     ]
    }
   ],
   "source": [
    "toppings=[]\n",
    "flag=True\n",
    "while flag:\n",
    "    topping=input('enter a topping:')\n",
    "    \n",
    "    if topping=='q':\n",
    "        flag=False\n",
    "    else:\n",
    "        toppings.append(topping)\n",
    "print(toppings)\n",
    "        #isme ye farq hai k ye chlti rahegi jb tk customer 'q' nh dega jitni tooping chahye hojaegi"
   ]
  },
  {
   "cell_type": "code",
   "execution_count": null,
   "metadata": {},
   "outputs": [
    {
     "name": "stdout",
     "output_type": "stream",
     "text": [
      "pizza order\n",
      "\n",
      "\n",
      "enter a sizelarge\n",
      "enter a sizejjj\n",
      "jjj not available\n",
      "enter the size again\n",
      "enter a sizesmall\n",
      "enter a sizemeduim\n",
      "enter a sizesd\n",
      "sd not available\n",
      "enter the size again\n",
      "enter a sizewdw\n",
      "wdw not available\n",
      "enter the size again\n"
     ]
    }
   ],
   "source": [
    "availableflavours=['fajita','BBQ','tikka','mexican']\n",
    "availablesize=['large','meduim','small']\n",
    "availabletoppings=['olives','cheese','hurbs']\n",
    "print('pizza order')\n",
    "print()\n",
    "print()\n",
    "flag=True\n",
    "while flag:\n",
    "    size=input('enter a size')\n",
    "    if size not in availablesize:\n",
    "        print(f'{size} not available')\n",
    "        print(\"enter the size again\")\n",
    "        "
   ]
  },
  {
   "cell_type": "code",
   "execution_count": null,
   "metadata": {},
   "outputs": [],
   "source": []
  },
  {
   "cell_type": "code",
   "execution_count": null,
   "metadata": {},
   "outputs": [],
   "source": []
  }
 ],
 "metadata": {
  "kernelspec": {
   "display_name": "Python 3",
   "language": "python",
   "name": "python3"
  }
 },
 "nbformat": 4,
 "nbformat_minor": 2
}
