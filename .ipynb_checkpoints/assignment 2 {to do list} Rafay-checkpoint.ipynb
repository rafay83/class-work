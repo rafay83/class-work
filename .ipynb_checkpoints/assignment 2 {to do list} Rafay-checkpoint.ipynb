{
 "cells": [
  {
   "cell_type": "code",
   "execution_count": 2,
   "metadata": {},
   "outputs": [
    {
     "name": "stdout",
     "output_type": "stream",
     "text": [
      "enter a task you have done: lunch\n",
      "these tasks are left: ['tea', 'breakfast', 'walk', 'gardening', 'going for ecat classes', 'movie', 'hangout with friends', 'assignment', 'dinner', 'sleep']\n",
      "this task is done: ['lunch']\n"
     ]
    }
   ],
   "source": [
    "to_do_list=[\"tea\",\"breakfast\",\"walk\",\"gardening\",\"going for ecat classes\",\"movie\",\"lunch\",\"hangout with friends\",\"assignment\",\"dinner\",\"sleep\"] \n",
    "empty_list=[]\n",
    "task_done=input(\"enter a task you have done: \")\n",
    "if task_done in to_do_list:\n",
    "    store_list=to_do_list.index(task_done) \n",
    "    to_do_list.pop(store_list)\n",
    "    empty_list.append(task_done)\n",
    "    print(f\"these tasks are left: {to_do_list}\")\n",
    "    print(f\"this task is done: {empty_list}\")\n",
    "else:\n",
    "    print(\"this task is not present in your to do list\")\n"
   ]
  },
  {
   "cell_type": "code",
   "execution_count": null,
   "metadata": {},
   "outputs": [],
   "source": []
  }
 ],
 "metadata": {
  "kernelspec": {
   "display_name": "Python 3",
   "language": "python",
   "name": "python3"
  },
  "language_info": {
   "codemirror_mode": {
    "name": "ipython",
    "version": 3
   },
   "file_extension": ".py",
   "mimetype": "text/x-python",
   "name": "python",
   "nbconvert_exporter": "python",
   "pygments_lexer": "ipython3",
   "version": "3.7.3"
  }
 },
 "nbformat": 4,
 "nbformat_minor": 2
}
