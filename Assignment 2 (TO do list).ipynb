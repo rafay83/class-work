{
 "cells": [
  {
   "cell_type": "code",
   "execution_count": 4,
   "metadata": {},
   "outputs": [
    {
     "name": "stdout",
     "output_type": "stream",
     "text": [
      "Enter a task you done: Lunch\n",
      "These tasks are left: ['Fajar Prayer', 'Walk', 'Breakfast', 'Going to Uni', 'Tution', 'Dinner', 'Sleep']\n",
      "This task is done: ['Lunch']\n"
     ]
    }
   ],
   "source": [
    "to_do_list=[\"Fajar Prayer\" , \"Walk\" , \"Breakfast\" , \"Going to Uni\" , \"Lunch\" , \"Tution\" , \"Dinner\" , \"Sleep\"]\n",
    "empty_list=[]\n",
    "task_done=input(\"Enter a task you done: \")\n",
    "if task_done in to_do_list:\n",
    "    store_list=to_do_list.index(task_done)\n",
    "    to_do_list.pop(store_list)\n",
    "    empty_list.append(task_done)\n",
    "    print(f\"These tasks are left: {to_do_list}\")\n",
    "    print(f\"This task is done: {empty_list}\")\n",
    "else:\n",
    "    print(\"This task is not present in your to do list\")"
   ]
  }
 ],
 "metadata": {
  "kernelspec": {
   "display_name": "Python 3",
   "language": "python",
   "name": "python3"
  },
  "language_info": {
   "codemirror_mode": {
    "name": "ipython",
    "version": 3
   },
   "file_extension": ".py",
   "mimetype": "text/x-python",
   "name": "python",
   "nbconvert_exporter": "python",
   "pygments_lexer": "ipython3",
   "version": "3.7.3"
  }
 },
 "nbformat": 4,
 "nbformat_minor": 2
}
