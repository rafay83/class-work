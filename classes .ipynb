{
 "cells": [
  {
   "cell_type": "markdown",
   "metadata": {},
   "source": [
    "# classes"
   ]
  },
  {
   "cell_type": "code",
   "execution_count": 88,
   "metadata": {},
   "outputs": [],
   "source": [
    "class mobile():\n",
    "    \n",
    "    def __init__(self,brand,colour,prize,ram,rom,):     #class k ander function bnae ge hmesha yhi attributes k lye.\n",
    "        self.mobilebrand = brand\n",
    "        self.mobilecolour = colour\n",
    "        self.mobileprize = prize\n",
    "        self.mobileram = ram\n",
    "        self.mobilerom = rom\n",
    "    \n",
    "    def makecall(self): #ye function banega behaviour k lye.\n",
    "        pass\n",
    "    def recievecall(self):\n",
    "        print(\"Mobile is dialing\")\n",
    "    def dropacall(self):\n",
    "        print(\"Mobile is recieving a call\")\n",
    "    def sendmessage(self):\n",
    "        print(\"Mobile is sending a message\")\n",
    "    def recievemessage(self):\n",
    "        print(\"Mobile is recieving a message\")\n",
    "    def presskeypad(self):\n",
    "        print(\"keypad is pressed to dial a number or message\")\n",
    "    #attributes    \n",
    "    '''colour\n",
    "    screen size\n",
    "    ram\n",
    "    rom\n",
    "    price\n",
    "    #behaviour\n",
    "    make a call\n",
    "    recieve a call\n",
    "    drop a call\n",
    "    read a message\n",
    "    send a message\n",
    "    '''"
   ]
  },
  {
   "cell_type": "code",
   "execution_count": 89,
   "metadata": {},
   "outputs": [],
   "source": [
    "mobile1 = mobile(\"Nokia\",\"black\",10000,\"4GB\",\"32GB\")\n",
    "\n",
    "            "
   ]
  },
  {
   "cell_type": "code",
   "execution_count": 90,
   "metadata": {},
   "outputs": [],
   "source": [
    "mobile2 = mobile(\"Nokia\",\"white\",20000,\"6GB\",\"64GB\",)"
   ]
  },
  {
   "cell_type": "code",
   "execution_count": 91,
   "metadata": {},
   "outputs": [
    {
     "data": {
      "text/plain": [
       "'black'"
      ]
     },
     "execution_count": 91,
     "metadata": {},
     "output_type": "execute_result"
    }
   ],
   "source": [
    "mobile1.mobilecolour"
   ]
  },
  {
   "cell_type": "code",
   "execution_count": 46,
   "metadata": {},
   "outputs": [
    {
     "data": {
      "text/plain": [
       "'64GB'"
      ]
     },
     "execution_count": 46,
     "metadata": {},
     "output_type": "execute_result"
    }
   ],
   "source": [
    "mobile2.mobilerom"
   ]
  },
  {
   "cell_type": "code",
   "execution_count": 47,
   "metadata": {},
   "outputs": [
    {
     "data": {
      "text/plain": [
       "10000"
      ]
     },
     "execution_count": 47,
     "metadata": {},
     "output_type": "execute_result"
    }
   ],
   "source": [
    "mobile1.mobileprize"
   ]
  },
  {
   "cell_type": "code",
   "execution_count": 48,
   "metadata": {},
   "outputs": [
    {
     "data": {
      "text/plain": [
       "20000"
      ]
     },
     "execution_count": 48,
     "metadata": {},
     "output_type": "execute_result"
    }
   ],
   "source": [
    "mobile2.mobileprize"
   ]
  },
  {
   "cell_type": "code",
   "execution_count": 49,
   "metadata": {},
   "outputs": [
    {
     "data": {
      "text/plain": [
       "'32GB'"
      ]
     },
     "execution_count": 49,
     "metadata": {},
     "output_type": "execute_result"
    }
   ],
   "source": [
    "mobile1.mobilerom"
   ]
  },
  {
   "cell_type": "code",
   "execution_count": 50,
   "metadata": {},
   "outputs": [
    {
     "data": {
      "text/plain": [
       "'6GB'"
      ]
     },
     "execution_count": 50,
     "metadata": {},
     "output_type": "execute_result"
    }
   ],
   "source": [
    "mobile2.mobileram"
   ]
  },
  {
   "cell_type": "code",
   "execution_count": 102,
   "metadata": {},
   "outputs": [],
   "source": [
    "class mobile():\n",
    "    \n",
    "    def __init__(self,brand,colour,prize,ram,rom,):     #class k ander function bnae ge hmesha yhi attributes k lye.\n",
    "        self.mobilebrand = brand\n",
    "        self.mobilecolour = colour\n",
    "        self.mobileprize = prize\n",
    "        self.mobileram = ram\n",
    "        self.mobilerom = rom\n",
    "    \n",
    "    def makecall(self): #ye function banega behaviour k lye.\n",
    "        print(f\"{self.mobilebrand} mobile is dialing\")\n",
    "    def recievecall(self):\n",
    "        print(f\"{self.mobilebrand} mobile is recieving\")\n",
    "    def dropacall(self):\n",
    "        print(f\"{self.mobilebrand} is droping a call\")\n",
    "    def sendmessage(self):\n",
    "        print(f\"{self.mobilebrand} is sending a message\")\n",
    "    def recievemessage(self):\n",
    "        print(f\"{self.mobilebrand} is recieving a message\")\n",
    "    #attributes    \n",
    "    '''colour\n",
    "    screen size\n",
    "    ram\n",
    "    rom\n",
    "    price\n",
    "    #behaviour\n",
    "    make a call\n",
    "    recieve a call\n",
    "    drop a call\n",
    "    read a message\n",
    "    send a message\n",
    "    '''"
   ]
  },
  {
   "cell_type": "code",
   "execution_count": 103,
   "metadata": {},
   "outputs": [],
   "source": [
    "mobile1 = mobile(\"Nokia\",\"black\",30000,\"6GB\",\"64GB\")\n",
    "mobile2 = mobile(\"Nokia\",\"White\",40000,\"8GB\",\"128GB\")"
   ]
  },
  {
   "cell_type": "code",
   "execution_count": 104,
   "metadata": {},
   "outputs": [
    {
     "data": {
      "text/plain": [
       "'Nokia'"
      ]
     },
     "execution_count": 104,
     "metadata": {},
     "output_type": "execute_result"
    }
   ],
   "source": [
    "mobile1.mobilebrand"
   ]
  },
  {
   "cell_type": "code",
   "execution_count": 105,
   "metadata": {},
   "outputs": [
    {
     "data": {
      "text/plain": [
       "'White'"
      ]
     },
     "execution_count": 105,
     "metadata": {},
     "output_type": "execute_result"
    }
   ],
   "source": [
    "mobile2.mobilecolour"
   ]
  },
  {
   "cell_type": "code",
   "execution_count": 106,
   "metadata": {},
   "outputs": [
    {
     "data": {
      "text/plain": [
       "30000"
      ]
     },
     "execution_count": 106,
     "metadata": {},
     "output_type": "execute_result"
    }
   ],
   "source": [
    "mobile1.mobileprize"
   ]
  },
  {
   "cell_type": "code",
   "execution_count": 107,
   "metadata": {},
   "outputs": [
    {
     "name": "stdout",
     "output_type": "stream",
     "text": [
      "Nokia mobile is dialing\n"
     ]
    }
   ],
   "source": [
    "mobile1.makecall()"
   ]
  },
  {
   "cell_type": "code",
   "execution_count": 108,
   "metadata": {},
   "outputs": [
    {
     "data": {
      "text/plain": [
       "'128GB'"
      ]
     },
     "execution_count": 108,
     "metadata": {},
     "output_type": "execute_result"
    }
   ],
   "source": [
    "mobile2.mobilerom"
   ]
  },
  {
   "cell_type": "code",
   "execution_count": 109,
   "metadata": {},
   "outputs": [],
   "source": [
    "class student():\n",
    "    def __init__(self,name,gender,course,email):\n",
    "        self.name = name\n",
    "        self.gender = gender\n",
    "        self.course = course\n",
    "        self.email = email\n",
    "    \n",
    "    def study(self):\n",
    "        print(f\"{self.name} is studying\")\n",
    "    def exam(self):\n",
    "        print(f\"{selfname} is appearing in exam\")\n",
    "    def submit(self):\n",
    "        print(f\"{self.name} is submitting assignment\")\n",
    "        "
   ]
  },
  {
   "cell_type": "code",
   "execution_count": 110,
   "metadata": {},
   "outputs": [],
   "source": [
    "student1 = student(\"Rafay\",\"Male\",\"AI\",\"muhammadrafayy83@gmail.com\")"
   ]
  },
  {
   "cell_type": "code",
   "execution_count": 111,
   "metadata": {},
   "outputs": [],
   "source": [
    "student2 = student(\"Aliza\",\"Female\",\"AI\",\"aliza999@gmail.com\")"
   ]
  },
  {
   "cell_type": "code",
   "execution_count": 112,
   "metadata": {},
   "outputs": [
    {
     "data": {
      "text/plain": [
       "'Male'"
      ]
     },
     "execution_count": 112,
     "metadata": {},
     "output_type": "execute_result"
    }
   ],
   "source": [
    "student1.gender"
   ]
  },
  {
   "cell_type": "code",
   "execution_count": 113,
   "metadata": {},
   "outputs": [
    {
     "data": {
      "text/plain": [
       "'Female'"
      ]
     },
     "execution_count": 113,
     "metadata": {},
     "output_type": "execute_result"
    }
   ],
   "source": [
    "student2.gender"
   ]
  },
  {
   "cell_type": "code",
   "execution_count": 114,
   "metadata": {},
   "outputs": [
    {
     "data": {
      "text/plain": [
       "'muhammadrafayy83@gmail.com'"
      ]
     },
     "execution_count": 114,
     "metadata": {},
     "output_type": "execute_result"
    }
   ],
   "source": [
    "student1.email"
   ]
  },
  {
   "cell_type": "code",
   "execution_count": 115,
   "metadata": {},
   "outputs": [
    {
     "data": {
      "text/plain": [
       "'Aliza'"
      ]
     },
     "execution_count": 115,
     "metadata": {},
     "output_type": "execute_result"
    }
   ],
   "source": [
    "student2.name"
   ]
  },
  {
   "cell_type": "code",
   "execution_count": 116,
   "metadata": {},
   "outputs": [
    {
     "data": {
      "text/plain": [
       "'Rafay'"
      ]
     },
     "execution_count": 116,
     "metadata": {},
     "output_type": "execute_result"
    }
   ],
   "source": [
    "student1.name"
   ]
  },
  {
   "cell_type": "markdown",
   "metadata": {},
   "source": [
    "# updating a value of attribute via function"
   ]
  },
  {
   "cell_type": "code",
   "execution_count": 117,
   "metadata": {},
   "outputs": [],
   "source": [
    "class student():\n",
    "    def __init__(self,name,gender,course,email):\n",
    "        self.name = name\n",
    "        self.gender = gender\n",
    "        self.course = course\n",
    "        self.email = email\n",
    "        self.GPA = 0\n",
    "    def getGPA(self):\n",
    "        print(f\"GPA of {self.name} is {self.GPA}\")\n",
    "    def setGPA(self,newGPA):\n",
    "        self.GPA = newGPA\n",
    "    def study(self):\n",
    "        print(f\"{self.name} is studying\")\n",
    "    def exam(self):\n",
    "        print(f\"{selfname} is appearing in exam\")\n",
    "    def submit(self):\n",
    "        print(f\"{self.name} is submitting assignment\")\n",
    "        "
   ]
  },
  {
   "cell_type": "code",
   "execution_count": 118,
   "metadata": {},
   "outputs": [],
   "source": [
    "student1.GPA=3.5\n"
   ]
  },
  {
   "cell_type": "code",
   "execution_count": 119,
   "metadata": {},
   "outputs": [
    {
     "ename": "AttributeError",
     "evalue": "'student' object has no attribute 'GPA'",
     "output_type": "error",
     "traceback": [
      "\u001b[1;31m---------------------------------------------------------------------------\u001b[0m",
      "\u001b[1;31mAttributeError\u001b[0m                            Traceback (most recent call last)",
      "\u001b[1;32m<ipython-input-119-15f5cad343f2>\u001b[0m in \u001b[0;36m<module>\u001b[1;34m\u001b[0m\n\u001b[1;32m----> 1\u001b[1;33m \u001b[0mstudent2\u001b[0m\u001b[1;33m.\u001b[0m\u001b[0mGPA\u001b[0m\u001b[1;33m\u001b[0m\u001b[1;33m\u001b[0m\u001b[0m\n\u001b[0m",
      "\u001b[1;31mAttributeError\u001b[0m: 'student' object has no attribute 'GPA'"
     ]
    }
   ],
   "source": [
    "student2.GPA"
   ]
  },
  {
   "cell_type": "code",
   "execution_count": 120,
   "metadata": {},
   "outputs": [
    {
     "data": {
      "text/plain": [
       "3.5"
      ]
     },
     "execution_count": 120,
     "metadata": {},
     "output_type": "execute_result"
    }
   ],
   "source": [
    "student1.GPA"
   ]
  },
  {
   "cell_type": "code",
   "execution_count": 80,
   "metadata": {},
   "outputs": [],
   "source": [
    "student1 = student(\"Rafay\",\"Male\",\"AI\",\"muhammadrafayy83@gmail.com\")"
   ]
  },
  {
   "cell_type": "code",
   "execution_count": 81,
   "metadata": {},
   "outputs": [
    {
     "name": "stdout",
     "output_type": "stream",
     "text": [
      "GPA of Rafay is 0\n"
     ]
    }
   ],
   "source": [
    "student1.getGPA()"
   ]
  },
  {
   "cell_type": "markdown",
   "metadata": {},
   "source": [
    "# inheritance"
   ]
  },
  {
   "cell_type": "code",
   "execution_count": 82,
   "metadata": {},
   "outputs": [],
   "source": [
    "#code reuseability"
   ]
  },
  {
   "cell_type": "code",
   "execution_count": 121,
   "metadata": {},
   "outputs": [],
   "source": [
    "class smartmobile(mobile):\n",
    "    def __init__(self,brand,colour,price,ram,rom):\n",
    "        super().__init__(brand,colour,price,ram,rom)\n",
    "        self.battery = \"5000MHz\"\n",
    "    def camera(self):\n",
    "        print(\"smart camera is on\")\n",
    "    def presskeypad(self):\n",
    "        print(\"there is no keypad in smartphone\")"
   ]
  },
  {
   "cell_type": "code",
   "execution_count": 122,
   "metadata": {},
   "outputs": [],
   "source": [
    "sm1= smartmobile(\"Nokia\",\"black\",30000,\"6GB\",\"64GB\")"
   ]
  },
  {
   "cell_type": "code",
   "execution_count": 123,
   "metadata": {},
   "outputs": [
    {
     "name": "stdout",
     "output_type": "stream",
     "text": [
      "Nokia mobile is dialing\n"
     ]
    }
   ],
   "source": [
    "sm1.makecall()"
   ]
  },
  {
   "cell_type": "code",
   "execution_count": 124,
   "metadata": {},
   "outputs": [
    {
     "name": "stdout",
     "output_type": "stream",
     "text": [
      "there is no keypad in smartphone\n"
     ]
    }
   ],
   "source": [
    "sm1.presskeypad()"
   ]
  },
  {
   "cell_type": "code",
   "execution_count": null,
   "metadata": {},
   "outputs": [],
   "source": []
  }
 ],
 "metadata": {
  "kernelspec": {
   "display_name": "Python 3",
   "language": "python",
   "name": "python3"
  },
  "language_info": {
   "codemirror_mode": {
    "name": "ipython",
    "version": 3
   },
   "file_extension": ".py",
   "mimetype": "text/x-python",
   "name": "python",
   "nbconvert_exporter": "python",
   "pygments_lexer": "ipython3",
   "version": "3.7.3"
  }
 },
 "nbformat": 4,
 "nbformat_minor": 2
}
